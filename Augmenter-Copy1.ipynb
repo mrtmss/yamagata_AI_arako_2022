{
 "cells": [
  {
   "cell_type": "code",
   "execution_count": 1,
   "metadata": {
    "ExecuteTime": {
     "end_time": "2023-02-15T12:31:32.672975Z",
     "start_time": "2023-02-15T12:30:58.733087Z"
    }
   },
   "outputs": [],
   "source": [
    "#!pip install Augmentor "
   ]
  },
  {
   "cell_type": "code",
   "execution_count": 2,
   "metadata": {
    "ExecuteTime": {
     "end_time": "2023-02-16T13:57:48.137450Z",
     "start_time": "2023-02-16T13:57:30.828335Z"
    }
   },
   "outputs": [],
   "source": [
    "#ライブラリをインポート\n",
    "#標準ライブラリ\n",
    "import os\n",
    "import pathlib\n",
    "\n",
    "#サードパーティー製\n",
    "import Augmentor\n",
    "import pandas as pd"
   ]
  },
  {
   "cell_type": "code",
   "execution_count": null,
   "metadata": {},
   "outputs": [],
   "source": [
    "list(Path().iterdir())"
   ]
  },
  {
   "cell_type": "markdown",
   "metadata": {},
   "source": [
    "# 概要"
   ]
  },
  {
   "cell_type": "markdown",
   "metadata": {},
   "source": [
    "Augmenterを使用して、オフライン拡張をおこなう．<br>"
   ]
  },
  {
   "cell_type": "code",
   "execution_count": 1,
   "metadata": {
    "ExecuteTime": {
     "end_time": "2023-02-16T13:57:48.141449Z",
     "start_time": "2023-02-16T13:57:48.138449Z"
    }
   },
   "outputs": [],
   "source": [
    "\"\"\"\n",
    "変更箇所\n",
    "\"\"\"\n",
    "#訓練画像のパス\n",
    "train_path = \"Train\"\n",
    "#水増し処理後の画像の保存先のパス\n",
    "augmentation_output_path = \"Train/output\"\n",
    "#名前変更後の画像の出力先のパス\n",
    "rename_output_path = \"output_after_rename_img_9999\""
   ]
  },
  {
   "cell_type": "code",
   "execution_count": 4,
   "metadata": {
    "ExecuteTime": {
     "end_time": "2023-02-16T13:57:48.468345Z",
     "start_time": "2023-02-16T13:57:48.143450Z"
    }
   },
   "outputs": [],
   "source": [
    "#出力先の画像の名前を求める形に変更\n",
    "def rename_path(augmentation_output_path, rename_output_path):\n",
    "    \"\"\"\n",
    "    水増し処理をした画像のパス名を変換させる関数\n",
    "    \n",
    "    augmentation_output_path : str\n",
    "        水増し処理後の画像群のパス\n",
    "    rename_output_path : str\n",
    "        リネーム後の画像を出力するパス\n",
    "    \"\"\"\n",
    "    \n",
    "    #画像のパスを取得\n",
    "    list_path = list(pathlib.Path(augmentation_output_path).iterdir())\n",
    "    #画像のパス名をstr型に変更\n",
    "    list_path = [str(path) for path in list_path]\n",
    "    \n",
    "    #DF化\n",
    "    df_list_path = pd.DataFrame(list_path)\n",
    "    \n",
    "    #それぞれのパスのフルーツ名を取得\n",
    "    list_fruit_name = list(df_list_path[0].str.split(\"\\\\\", expand = True).iloc[:, -1].str.split(\"_\", expand = True).iloc[:, 2])\n",
    "    display()\n",
    "    \n",
    "    #パスと果物名の列があるdfを作成\n",
    "    df_path_and_fruitname = pd.DataFrame([list_path, list_fruit_name]).T\n",
    "    df_path_and_fruitname.columns = [\"パス\", \"果物名\"]\n",
    "    \n",
    "    #パス名の変換を実施\n",
    "    apple_count = 0\n",
    "    tomato_count = 0\n",
    "    cherry_count = 0\n",
    "    for path, fruit_name in df_path_and_fruitname.values:\n",
    "        #この書き方あまり好きではないが、、、時短のため\n",
    "        #リンゴの場合\n",
    "        if(fruit_name == \"apple\"):\n",
    "            #名前の変更\n",
    "            os.rename(path, os.path.join(rename_output_path, fruit_name + '_' + str(apple_count) + \".jpg\"))\n",
    "            #リンゴ＋１\n",
    "            apple_count += 1\n",
    "        #トマトの場合\n",
    "        elif(fruit_name == \"tomato\"):\n",
    "            #名前の変更\n",
    "            os.rename(path, os.path.join(rename_output_path, fruit_name + '_' + str(tomato_count) + \".jpg\"))\n",
    "            #トマト＋１\n",
    "            tomato_count += 1\n",
    "        #サクランボの場合\n",
    "        elif(fruit_name == \"cherry\"):\n",
    "            #名前の変更\n",
    "            os.rename(path, os.path.join(rename_output_path, fruit_name + '_' + str(cherry_count) + \".jpg\"))\n",
    "            #さくらんぼ＋１\n",
    "            cherry_count += 1"
   ]
  },
  {
   "cell_type": "code",
   "execution_count": 5,
   "metadata": {
    "ExecuteTime": {
     "end_time": "2023-02-16T17:11:34.938309Z",
     "start_time": "2023-02-16T17:11:34.932294Z"
    }
   },
   "outputs": [],
   "source": [
    "# 画像の回転＋明るさ+弾性歪み\n",
    "def rotate_and_adjust_skrw_erasing(img_path, prob = 0.2, max_left = 360, max_right = 360, min_factor_adjust = 0.3, max_factor_adjust = 0.8, \\\n",
    "                                 mag = 1, grid = 5, mag_d = 3):\n",
    "    \"\"\"\n",
    "    画像を回転させる水増し処理\n",
    "    \n",
    "    img_path:str\n",
    "        水増し処理を行いたい画像群のパス\n",
    "    prob:double\n",
    "        画像を回転させる確率\n",
    "    max_left:int\n",
    "        左に傾ける角度の最大値\n",
    "    max_right:int\n",
    "        右に傾ける角度の最小値\n",
    "    min_factor_adjust:double\n",
    "        明るさの最小値\n",
    "    max_factor_adjust:double\n",
    "        明るさの最大値\n",
    "    mag:double\n",
    "        歪みの程度（おそらく）\n",
    "    grid:int\n",
    "        弾性歪み時の長方形の数\n",
    "    mag_d:int\n",
    "        弾性歪みの程度\n",
    "    \"\"\"\n",
    "    \n",
    "    # パイプラインを作成する。\n",
    "    p = Augmentor.Pipeline(img_path)\n",
    "    \n",
    "    # ランダムな回転を実施\n",
    "    p.rotate_without_crop(probability = prob, max_left_rotation = max_left, max_right_rotation = max_right)\n",
    "    #明るさの変更\n",
    "    p.random_brightness(probability=prob, min_factor=min_factor_adjust, max_factor=max_factor_adjust)\n",
    "    #歪みを実施\n",
    "    p.skew(probability=prob, magnitude=0.1)\n",
    "    p.skew(probability=prob, magnitude=0.2)\n",
    "    p.skew(probability=prob, magnitude=0.3)\n",
    "    #p.skew(probability=prob, magnitude=0.4)\n",
    "    #p.skew(probability=prob, magnitude=0.5)\n",
    "    #p.skew(probability=prob, magnitude=0.6)\n",
    "    #p.skew(probability=prob, magnitude=0.7)\n",
    "    #p.skew(probability=prob, magnitude=0.8)\n",
    "    #p.skew(probability=prob, magnitude=0.9)\n",
    "    #p.skew(probability=prob, magnitude=1)\n",
    "    #くりぬき実施\n",
    "    p.crop_random(probability=prob, percentage_area=0.7, randomise_percentage_area=False)\n",
    "    #反転\n",
    "    p.flip_random(probability=prob)\n",
    "    #弾性歪み\n",
    "    p.random_distortion(probability=prob, grid_width = 5, grid_height = 5, magnitude=5)\n",
    "    p.random_distortion(probability=prob, grid_width = 6, grid_height = 6, magnitude=6)\n",
    "    #p.random_distortion(probability=prob, grid_width = 7, grid_height = 7, magnitude=7)\n",
    "    #p.random_distortion(probability=prob, grid_width = 8, grid_height = 8, magnitude=8)\n",
    "    #p.random_distortion(probability=prob, grid_width = 9, grid_height = 9, magnitude=9)\n",
    "    #彩度\n",
    "    p.random_color(probability=prob, min_factor=0.1, max_factor=1.0)\n",
    "    #コントラスト\n",
    "    p.random_contrast(probability=prob, min_factor=0.1, max_factor=1.0)\n",
    "    #情報損失\n",
    "    p.random_erasing(probability=prob, rectangle_area=0.4)\n",
    "    p.random_erasing(probability=prob, rectangle_area=0.2)\n",
    "    \n",
    "    p.sample(9999)"
   ]
  },
  {
   "cell_type": "code",
   "execution_count": 6,
   "metadata": {
    "ExecuteTime": {
     "end_time": "2023-02-16T17:11:54.935626Z",
     "start_time": "2023-02-16T17:11:35.046256Z"
    }
   },
   "outputs": [
    {
     "name": "stdout",
     "output_type": "stream",
     "text": [
      "Initialised with 999 image(s) found.\n",
      "Output directory set to Train\\output."
     ]
    },
    {
     "name": "stderr",
     "output_type": "stream",
     "text": [
      "Processing <PIL.Image.Image image mode=RGB size=204x125 at 0x20FE3855700>:  40%|▍| 4012/9999 [02:25<03:08, 31.70 Sample"
     ]
    }
   ],
   "source": [
    "rotate_and_adjust_skrw_erasing(train_path)"
   ]
  },
  {
   "cell_type": "code",
   "execution_count": 7,
   "metadata": {},
   "outputs": [],
   "source": [
    "#適切な形にパス名を変更\n",
    "rename_path(augmentation_output_path, rename_output_path)"
   ]
  },
  {
   "cell_type": "code",
   "execution_count": 8,
   "metadata": {},
   "outputs": [],
   "source": [
    "i = [1*10]"
   ]
  },
  {
   "cell_type": "code",
   "execution_count": 9,
   "metadata": {},
   "outputs": [],
   "source": [
    "print(i)"
   ]
  },
  {
   "cell_type": "code",
   "execution_count": null,
   "metadata": {},
   "outputs": [],
   "source": []
  }
 ],
 "metadata": {
  "kernelspec": {
   "display_name": "Python [conda env:image_analysis] *",
   "language": "python",
   "name": "conda-env-image_analysis-py"
  },
  "language_info": {
   "codemirror_mode": {
    "name": "ipython",
    "version": 3
   },
   "file_extension": ".py",
   "mimetype": "text/x-python",
   "name": "python",
   "nbconvert_exporter": "python",
   "pygments_lexer": "ipython3",
   "version": "3.8.12"
  }
 },
 "nbformat": 4,
 "nbformat_minor": 2
}
