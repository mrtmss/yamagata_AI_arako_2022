{
 "cells": [
  {
   "cell_type": "code",
   "execution_count": 1,
   "metadata": {
    "ExecuteTime": {
     "end_time": "2023-02-15T12:31:32.672975Z",
     "start_time": "2023-02-15T12:30:58.733087Z"
    }
   },
   "outputs": [
    {
     "name": "stdout",
     "output_type": "stream",
     "text": [
      "Collecting Augmentor\n",
      "  Downloading Augmentor-0.2.10-py2.py3-none-any.whl (38 kB)\n",
      "Requirement already satisfied: future>=0.16.0 in c:\\users\\mrtms\\anaconda3\\envs\\image_analysis\\lib\\site-packages (from Augmentor) (0.18.3)\n",
      "Requirement already satisfied: tqdm>=4.9.0 in c:\\users\\mrtms\\anaconda3\\envs\\image_analysis\\lib\\site-packages (from Augmentor) (4.64.1)\n",
      "Requirement already satisfied: Pillow>=5.2.0 in c:\\users\\mrtms\\anaconda3\\envs\\image_analysis\\lib\\site-packages (from Augmentor) (9.4.0)\n",
      "Requirement already satisfied: numpy>=1.11.0 in c:\\users\\mrtms\\anaconda3\\envs\\image_analysis\\lib\\site-packages (from Augmentor) (1.23.5)\n",
      "Requirement already satisfied: colorama in c:\\users\\mrtms\\anaconda3\\envs\\image_analysis\\lib\\site-packages (from tqdm>=4.9.0->Augmentor) (0.4.6)\n",
      "Installing collected packages: Augmentor\n",
      "Successfully installed Augmentor-0.2.10\n"
     ]
    }
   ],
   "source": [
    "#!pip install Augmentor "
   ]
  },
  {
   "cell_type": "code",
   "execution_count": 1,
   "metadata": {
    "ExecuteTime": {
     "end_time": "2023-02-16T13:57:48.137450Z",
     "start_time": "2023-02-16T13:57:30.828335Z"
    }
   },
   "outputs": [],
   "source": [
    "#ライブラリをインポート\n",
    "#標準ライブラリ\n",
    "import os\n",
    "import pathlib\n",
    "\n",
    "#サードパーティー製\n",
    "import Augmentor\n",
    "import pandas as pd"
   ]
  },
  {
   "cell_type": "markdown",
   "metadata": {},
   "source": [
    "# 概要"
   ]
  },
  {
   "cell_type": "markdown",
   "metadata": {},
   "source": [
    "Augmenterを使用して、オフライン拡張をおこなう．<br>\n",
    "実験方法は様々あるが、付けたし実験を行い、その水増し処理が適切な検証をおこなう．\n",
    "\n",
    "計5種類の水増し処理を実施し、一先ず・・・水増し枚数は1処理×300+300枚で固定する．\n",
    "1. 画像の回転\n",
    "2. 明るさの変換\n",
    "3. 彩度の変換\n",
    "4. 歪ませる\n",
    "5. 切り抜き\n",
    "6. 反転\n",
    "7. 弾性歪み"
   ]
  },
  {
   "cell_type": "code",
   "execution_count": 2,
   "metadata": {
    "ExecuteTime": {
     "end_time": "2023-02-16T13:57:48.141449Z",
     "start_time": "2023-02-16T13:57:48.138449Z"
    }
   },
   "outputs": [],
   "source": [
    "\"\"\"\n",
    "変更箇所\n",
    "\"\"\"\n",
    "#訓練画像のパス\n",
    "train_path = \"Train\"\n",
    "#水増し処理後の画像の保存先のパス\n",
    "augmentation_output_path = \"Train/output\"\n",
    "#名前変更後の画像の出力先のパス\n",
    "rename_output_path = \"output_after_rename_img_\""
   ]
  },
  {
   "cell_type": "code",
   "execution_count": 3,
   "metadata": {
    "ExecuteTime": {
     "end_time": "2023-02-16T13:57:48.468345Z",
     "start_time": "2023-02-16T13:57:48.143450Z"
    }
   },
   "outputs": [],
   "source": [
    "#出力先の画像の名前を求める形に変更\n",
    "def rename_path(augmentation_output_path, rename_output_path):\n",
    "    \"\"\"\n",
    "    水増し処理をした画像のパス名を変換させる関数\n",
    "    \n",
    "    augmentation_output_path : str\n",
    "        水増し処理後の画像群のパス\n",
    "    rename_output_path : str\n",
    "        リネーム後の画像を出力するパス\n",
    "    \"\"\"\n",
    "    \n",
    "    #画像のパスを取得\n",
    "    list_path = list(pathlib.Path(augmentation_output_path).iterdir())\n",
    "    #画像のパス名をstr型に変更\n",
    "    list_path = [str(path) for path in list_path]\n",
    "    \n",
    "    #DF化\n",
    "    df_list_path = pd.DataFrame(list_path)\n",
    "    \n",
    "    #それぞれのパスのフルーツ名を取得\n",
    "    list_fruit_name = list(df_list_path[0].str.split(\"\\\\\", expand = True).iloc[:, -1].str.split(\"_\", expand = True).iloc[:, 2])\n",
    "    \n",
    "    #パスと果物名の列があるdfを作成\n",
    "    df_path_and_fruitname = pd.DataFrame([list_path, list_fruit_name]).T\n",
    "    df_path_and_fruitname.columns = [\"パス\", \"果物名\"]\n",
    "    \n",
    "    #パス名の変換を実施\n",
    "    apple_count = 0\n",
    "    tomato_count = 0\n",
    "    cherry_count = 0\n",
    "    for path, fruit_name in df_path_and_fruitname.values:\n",
    "        #この書き方あまり好きではないが、、、時短のため\n",
    "        #リンゴの場合\n",
    "        if(fruit_name == \"apple\"):\n",
    "            #名前の変更\n",
    "            os.rename(path, os.path.join(rename_output_path, fruit_name + '_' + str(apple_count) + \".jpg\"))\n",
    "            #リンゴ＋１\n",
    "            apple_count += 1\n",
    "        #トマトの場合\n",
    "        elif(fruit_name == \"tomato\"):\n",
    "            #名前の変更\n",
    "            os.rename(path, os.path.join(rename_output_path, fruit_name + '_' + str(tomato_count) + \".jpg\"))\n",
    "            #トマト＋１\n",
    "            tomato_count += 1\n",
    "        #サクランボの場合\n",
    "        elif(fruit_name == \"cherry\"):\n",
    "            #名前の変更\n",
    "            os.rename(path, os.path.join(rename_output_path, fruit_name + '_' + str(cherry_count) + \".jpg\"))\n",
    "            #さくらんぼ＋１\n",
    "            cherry_count += 1"
   ]
  },
  {
   "cell_type": "markdown",
   "metadata": {},
   "source": [
    "## 画像の回転"
   ]
  },
  {
   "cell_type": "code",
   "execution_count": 4,
   "metadata": {
    "ExecuteTime": {
     "end_time": "2023-02-16T12:29:53.037175Z",
     "start_time": "2023-02-16T12:29:53.033176Z"
    }
   },
   "outputs": [],
   "source": [
    "def rotate(img_path, prob = 0.9, max_left = 180, max_right = 180):\n",
    "    \"\"\"\n",
    "    画像を回転させる水増し処理\n",
    "    \n",
    "    img_path:str\n",
    "        水増し処理を行いたい画像群のパス\n",
    "    prob:double\n",
    "        画像を回転させる確率\n",
    "    max_left:int\n",
    "        左に傾ける角度の最大値\n",
    "    max_right:int\n",
    "        右に傾ける角度の最小値\n",
    "    \"\"\"\n",
    "    \n",
    "    # パイプラインを作成する。\n",
    "    p = Augmentor.Pipeline(img_path)\n",
    "    \n",
    "    # ランダムな回転を実施\n",
    "    p.rotate_without_crop(probability = prob, max_left_rotation = max_left, max_right_rotation = max_right)\n",
    "    \n",
    "    p.sample(3000)"
   ]
  },
  {
   "cell_type": "code",
   "execution_count": 5,
   "metadata": {
    "ExecuteTime": {
     "end_time": "2023-02-16T12:29:55.770303Z",
     "start_time": "2023-02-16T12:29:53.346077Z"
    }
   },
   "outputs": [
    {
     "name": "stdout",
     "output_type": "stream",
     "text": [
      "Initialised with 999 image(s) found.\n",
      "Output directory set to Train\\output."
     ]
    },
    {
     "name": "stderr",
     "output_type": "stream",
     "text": [
      "Processing <PIL.Image.Image image mode=RGB size=510x340 at 0x14A04F58E20>: 100%|█| 3000/3000 [00:10<00:00, 281.39 Sampl\n"
     ]
    }
   ],
   "source": [
    "rotate(train_path)"
   ]
  },
  {
   "cell_type": "code",
   "execution_count": 6,
   "metadata": {
    "ExecuteTime": {
     "end_time": "2023-02-16T12:29:59.678071Z",
     "start_time": "2023-02-16T12:29:58.552413Z"
    }
   },
   "outputs": [],
   "source": [
    "#適切な形にパス名を変更\n",
    "rename_path(augmentation_output_path, rename_output_path)"
   ]
  },
  {
   "cell_type": "markdown",
   "metadata": {
    "ExecuteTime": {
     "end_time": "2023-02-15T14:10:54.755143Z",
     "start_time": "2023-02-15T14:10:54.752144Z"
    }
   },
   "source": [
    "## 画像の回転＋明るさ"
   ]
  },
  {
   "cell_type": "code",
   "execution_count": 9,
   "metadata": {
    "ExecuteTime": {
     "end_time": "2023-02-16T12:31:45.840234Z",
     "start_time": "2023-02-16T12:31:45.833236Z"
    }
   },
   "outputs": [],
   "source": [
    "# 回転と明るさの水増し処理\n",
    "def rotate_and_adjust(img_path, prob = 0.5, max_left = 25, max_right = 25, min_factor_adjust = 0.7, max_factor_adjust = 1.7):\n",
    "    \"\"\"\n",
    "    画像を回転させる水増し処理\n",
    "    \n",
    "    img_path:str\n",
    "        水増し処理を行いたい画像群のパス\n",
    "    prob:double\n",
    "        画像を回転させる確率\n",
    "    max_left:int\n",
    "        左に傾ける角度の最大値\n",
    "    max_right:int\n",
    "        右に傾ける角度の最小値\n",
    "    min_factor_adjust:double\n",
    "        明るさの最小値\n",
    "    max_factor_adjust:double\n",
    "        明るさの最大値\n",
    "    \n",
    "    \"\"\"\n",
    "    \n",
    "    # パイプラインを作成する。\n",
    "    p = Augmentor.Pipeline(img_path)\n",
    "    \n",
    "    # ランダムな回転を実施\n",
    "    p.rotate_without_crop(probability = prob, max_left_rotation = max_left, max_right_rotation = max_right)\n",
    "    #明るさの変更\n",
    "    p.random_brightness(probability=prob, min_factor=min_factor_adjust, max_factor=max_factor_adjust)\n",
    "    \n",
    "    p.sample(3000)"
   ]
  },
  {
   "cell_type": "code",
   "execution_count": 10,
   "metadata": {
    "ExecuteTime": {
     "end_time": "2023-02-16T12:31:53.750707Z",
     "start_time": "2023-02-16T12:31:45.953198Z"
    }
   },
   "outputs": [
    {
     "name": "stdout",
     "output_type": "stream",
     "text": [
      "Initialised with 999 image(s) found.\n",
      "Output directory set to Train\\output."
     ]
    },
    {
     "name": "stderr",
     "output_type": "stream",
     "text": [
      "Processing <PIL.Image.Image image mode=RGB size=120x120 at 0x14A05688C70>: 100%|█| 3000/3000 [00:14<00:00, 204.98 Sampl\n"
     ]
    }
   ],
   "source": [
    "rotate_and_adjust(train_path)\n",
    "#適切な形にパス名を変更\n",
    "rename_path(augmentation_output_path, rename_output_path)"
   ]
  },
  {
   "cell_type": "markdown",
   "metadata": {},
   "source": [
    "## 画像の回転＋明るさ＋彩度"
   ]
  },
  {
   "cell_type": "code",
   "execution_count": 7,
   "metadata": {
    "ExecuteTime": {
     "end_time": "2023-02-16T13:57:52.402125Z",
     "start_time": "2023-02-16T13:57:52.397126Z"
    }
   },
   "outputs": [],
   "source": [
    "# 回転と明るさと彩度の水増し処理\n",
    "def rotate_and_adjust_saturation(img_path, prob = 0.5, max_left = 25, max_right = 25, min_factor_adjust = 0.3, max_factor_adjust = 1.7, \\\n",
    "                                 min_factor_saturation = 0.3, max_factor_saturation = 1.7):\n",
    "    \"\"\"\n",
    "    画像を回転させる水増し処理\n",
    "    \n",
    "    img_path:str\n",
    "        水増し処理を行いたい画像群のパス\n",
    "    prob:double\n",
    "        画像を回転させる確率\n",
    "    max_left:int\n",
    "        左に傾ける角度の最大値\n",
    "    max_right:int\n",
    "        右に傾ける角度の最小値\n",
    "    min_factor_adjust:double\n",
    "        明るさの最小値\n",
    "    max_factor_adjust:double\n",
    "        明るさの最大値\n",
    "    min_factor_saturation:double\n",
    "        彩度の最小値\n",
    "    max_factor_saturation:double\n",
    "        彩度の最大値\n",
    "    \n",
    "    \"\"\"\n",
    "    \n",
    "    # パイプラインを作成する。\n",
    "    p = Augmentor.Pipeline(img_path)\n",
    "    \n",
    "    # ランダムな回転を実施\n",
    "    p.rotate(probability = prob, max_left_rotation = max_left, max_right_rotation = max_right)\n",
    "    #明るさの変更\n",
    "    p.random_brightness(probability=prob, min_factor=min_factor_adjust, max_factor=max_factor_adjust)\n",
    "    #彩度の変更\n",
    "    p.random_color(probability=prob, min_factor=min_factor_saturation, max_factor=max_factor_saturation)\n",
    "    \n",
    "    p.sample(3000)"
   ]
  },
  {
   "cell_type": "code",
   "execution_count": 7,
   "metadata": {
    "ExecuteTime": {
     "end_time": "2023-02-16T13:58:07.132729Z",
     "start_time": "2023-02-16T13:57:52.669039Z"
    }
   },
   "outputs": [
    {
     "name": "stderr",
     "output_type": "stream",
     "text": [
      "Processing <PIL.Image.Image image mode=RGB size=162x180 at 0x17DC726AFD0>:   1%| | 7/1200 [00:00<00:33, 36.05 Samples/s"
     ]
    },
    {
     "name": "stdout",
     "output_type": "stream",
     "text": [
      "Initialised with 603 image(s) found.\n",
      "Output directory set to ../../Desktop/Train\\output."
     ]
    },
    {
     "name": "stderr",
     "output_type": "stream",
     "text": [
      "Processing <PIL.Image.Image image mode=RGB size=276x183 at 0x17DC87C9F60>: 100%|█| 1200/1200 [00:03<00:00, 330.41 Sampl\n"
     ]
    }
   ],
   "source": [
    "rotate_and_adjust_saturation(train_path)\n",
    "#適切な形にパス名を変更\n",
    "rename_path(augmentation_output_path, rename_output_path)"
   ]
  },
  {
   "cell_type": "markdown",
   "metadata": {},
   "source": [
    "## 画像の回転＋明るさ＋彩度＋歪み"
   ]
  },
  {
   "cell_type": "code",
   "execution_count": 39,
   "metadata": {
    "ExecuteTime": {
     "end_time": "2023-02-16T17:19:05.394807Z",
     "start_time": "2023-02-16T17:19:05.388791Z"
    }
   },
   "outputs": [],
   "source": [
    "# 画像の回転＋明るさ＋彩度＋歪み\n",
    "def rotate_and_adjust_saturation_skrw(img_path, prob = 0.5, max_left = 25, max_right = 25, min_factor_adjust = 0.3, max_factor_adjust = 1.7, \\\n",
    "                                 min_factor_saturation = 0.3, max_factor_saturation = 1.7, mag = 1):\n",
    "    \"\"\"\n",
    "    画像を回転させる水増し処理\n",
    "    \n",
    "    img_path:str\n",
    "        水増し処理を行いたい画像群のパス\n",
    "    prob:double\n",
    "        画像を回転させる確率\n",
    "    max_left:int\n",
    "        左に傾ける角度の最大値\n",
    "    max_right:int\n",
    "        右に傾ける角度の最小値\n",
    "    min_factor_adjust:double\n",
    "        明るさの最小値\n",
    "    max_factor_adjust:double\n",
    "        明るさの最大値\n",
    "    min_factor_saturation:double\n",
    "        彩度の最小値\n",
    "    max_factor_saturation:double\n",
    "        彩度の最大値\n",
    "    mag:double\n",
    "        歪みの程度（おそらく）\n",
    "    \n",
    "    \"\"\"\n",
    "    \n",
    "    # パイプラインを作成する。\n",
    "    p = Augmentor.Pipeline(img_path)\n",
    "    \n",
    "    # ランダムな回転を実施\n",
    "    p.rotate(probability = prob, max_left_rotation = max_left, max_right_rotation = max_right)\n",
    "    #明るさの変更\n",
    "    p.random_brightness(probability=prob, min_factor=min_factor_adjust, max_factor=max_factor_adjust)\n",
    "    #彩度の変更\n",
    "    p.random_color(probability=prob, min_factor=min_factor_saturation, max_factor=max_factor_saturation)\n",
    "    #歪みを実施\n",
    "    p.skew(probability=prob, magnitude=mag)\n",
    "    \n",
    "    p.sample(20000)"
   ]
  },
  {
   "cell_type": "code",
   "execution_count": 40,
   "metadata": {
    "ExecuteTime": {
     "end_time": "2023-02-16T17:24:31.343021Z",
     "start_time": "2023-02-16T17:19:05.501755Z"
    }
   },
   "outputs": [
    {
     "name": "stderr",
     "output_type": "stream",
     "text": [
      "\r",
      "Executing Pipeline:   0%|                                                              | 0/20000 [00:00<?, ? Samples/s]"
     ]
    },
    {
     "name": "stdout",
     "output_type": "stream",
     "text": [
      "Initialised with 603 image(s) found.\n",
      "Output directory set to ../../Desktop/Train\\output."
     ]
    },
    {
     "name": "stderr",
     "output_type": "stream",
     "text": [
      "Processing <PIL.Image.Image image mode=RGB size=269x196 at 0x17DD63EF3C8>: 100%|█| 20000/20000 [03:33<00:00, 93.89 Samp\n"
     ]
    }
   ],
   "source": [
    "rotate_and_adjust_saturation_skrw(train_path)\n",
    "#適切な形にパス名を変更\n",
    "rename_path(augmentation_output_path, rename_output_path)"
   ]
  },
  {
   "cell_type": "markdown",
   "metadata": {},
   "source": [
    "## 画像の回転＋明るさ＋歪み"
   ]
  },
  {
   "cell_type": "code",
   "execution_count": 14,
   "metadata": {
    "ExecuteTime": {
     "end_time": "2023-02-16T14:31:38.586641Z",
     "start_time": "2023-02-16T14:31:38.582642Z"
    }
   },
   "outputs": [],
   "source": [
    "# 画像の回転＋明るさ＋彩度＋歪み\n",
    "def rotate_and_adjust_skrw(img_path, prob = 0.5, max_left = 25, max_right = 25, min_factor_adjust = 0.3, max_factor_adjust = 1.7, \\\n",
    "                                 mag = 1):\n",
    "    \"\"\"\n",
    "    画像を回転させる水増し処理\n",
    "    \n",
    "    img_path:str\n",
    "        水増し処理を行いたい画像群のパス\n",
    "    prob:double\n",
    "        画像を回転させる確率\n",
    "    max_left:int\n",
    "        左に傾ける角度の最大値\n",
    "    max_right:int\n",
    "        右に傾ける角度の最小値\n",
    "    min_factor_adjust:double\n",
    "        明るさの最小値\n",
    "    max_factor_adjust:double\n",
    "        明るさの最大値\n",
    "    mag:double\n",
    "        歪みの程度（おそらく）\n",
    "    \n",
    "    \"\"\"\n",
    "    \n",
    "    # パイプラインを作成する。\n",
    "    p = Augmentor.Pipeline(img_path)\n",
    "    \n",
    "    # ランダムな回転を実施\n",
    "    p.rotate(probability = prob, max_left_rotation = max_left, max_right_rotation = max_right)\n",
    "    #明るさの変更\n",
    "    p.random_brightness(probability=prob, min_factor=min_factor_adjust, max_factor=max_factor_adjust)\n",
    "    #歪みを実施\n",
    "    p.skew(probability=prob, magnitude=mag)\n",
    "    \n",
    "    p.sample(1200)"
   ]
  },
  {
   "cell_type": "code",
   "execution_count": 15,
   "metadata": {
    "ExecuteTime": {
     "end_time": "2023-02-16T14:31:49.217553Z",
     "start_time": "2023-02-16T14:31:38.702605Z"
    }
   },
   "outputs": [
    {
     "name": "stderr",
     "output_type": "stream",
     "text": [
      "Processing <PIL.Image.Image image mode=RGB size=159x180 at 0x17DC86C55F8>:   0%| | 1/1200 [00:00<02:43,  7.36 Samples/s"
     ]
    },
    {
     "name": "stdout",
     "output_type": "stream",
     "text": [
      "Initialised with 603 image(s) found.\n",
      "Output directory set to ../../Desktop/Train\\output."
     ]
    },
    {
     "name": "stderr",
     "output_type": "stream",
     "text": [
      "Processing <PIL.Image.Image image mode=RGB size=146x200 at 0x17DC8784668>: 100%|█| 1200/1200 [00:04<00:00, 255.78 Sampl\n"
     ]
    }
   ],
   "source": [
    "rotate_and_adjust_skrw(train_path)\n",
    "#適切な形にパス名を変更\n",
    "rename_path(augmentation_output_path, rename_output_path)"
   ]
  },
  {
   "cell_type": "markdown",
   "metadata": {},
   "source": [
    "## 画像の回転＋明るさ＋歪み＋切り抜き"
   ]
  },
  {
   "cell_type": "code",
   "execution_count": 18,
   "metadata": {
    "ExecuteTime": {
     "end_time": "2023-02-16T14:52:10.588995Z",
     "start_time": "2023-02-16T14:52:10.583996Z"
    }
   },
   "outputs": [],
   "source": [
    "# 画像の回転＋明るさ＋彩度＋切り抜き\n",
    "def rotate_and_adjust_skrw_crop(img_path, prob = 0.5, max_left = 25, max_right = 25, min_factor_adjust = 0.3, max_factor_adjust = 1.7, \\\n",
    "                                 mag = 1, percent_crop_area = 0.7):\n",
    "    \"\"\"\n",
    "    画像を回転させる水増し処理\n",
    "    \n",
    "    img_path:str\n",
    "        水増し処理を行いたい画像群のパス\n",
    "    prob:double\n",
    "        画像を回転させる確率\n",
    "    max_left:int\n",
    "        左に傾ける角度の最大値\n",
    "    max_right:int\n",
    "        右に傾ける角度の最小値\n",
    "    min_factor_adjust:double\n",
    "        明るさの最小値\n",
    "    max_factor_adjust:double\n",
    "        明るさの最大値\n",
    "    mag:double\n",
    "        歪みの程度（おそらく）\n",
    "    percent_crop_area:double\n",
    "        元画像のどの程度の面積を切り抜くか\n",
    "    \n",
    "    \"\"\"\n",
    "    \n",
    "    # パイプラインを作成する。\n",
    "    p = Augmentor.Pipeline(img_path)\n",
    "    \n",
    "    # ランダムな回転を実施\n",
    "    p.rotate(probability = prob, max_left_rotation = max_left, max_right_rotation = max_right)\n",
    "    #明るさの変更\n",
    "    p.random_brightness(probability=prob, min_factor=min_factor_adjust, max_factor=max_factor_adjust)\n",
    "    #歪みを実施\n",
    "    p.skew(probability=prob, magnitude=mag)\n",
    "    #くりぬき実施\n",
    "    p.crop_random(probability=prob, percentage_area=percent_crop_area, randomise_percentage_area=True)\n",
    "    \n",
    "    p.sample(1500)"
   ]
  },
  {
   "cell_type": "code",
   "execution_count": 19,
   "metadata": {
    "ExecuteTime": {
     "end_time": "2023-02-16T14:52:18.918335Z",
     "start_time": "2023-02-16T14:52:10.710956Z"
    }
   },
   "outputs": [
    {
     "name": "stderr",
     "output_type": "stream",
     "text": [
      "\r",
      "Executing Pipeline:   0%|                                                               | 0/1500 [00:00<?, ? Samples/s]"
     ]
    },
    {
     "name": "stdout",
     "output_type": "stream",
     "text": [
      "Initialised with 603 image(s) found.\n",
      "Output directory set to ../../Desktop/Train\\output."
     ]
    },
    {
     "name": "stderr",
     "output_type": "stream",
     "text": [
      "Processing <PIL.Image.Image image mode=RGB size=49x37 at 0x17DC87DA4E0>: 100%|█| 1500/1500 [00:05<00:00, 293.23 Samples\n"
     ]
    }
   ],
   "source": [
    "rotate_and_adjust_skrw_crop(train_path)\n",
    "#適切な形にパス名を変更\n",
    "rename_path(augmentation_output_path, rename_output_path)"
   ]
  },
  {
   "cell_type": "markdown",
   "metadata": {},
   "source": [
    "## 画像の回転＋明るさ＋歪み＋切り抜き＋反転"
   ]
  },
  {
   "cell_type": "code",
   "execution_count": 6,
   "metadata": {
    "ExecuteTime": {
     "end_time": "2023-02-16T16:04:02.793231Z",
     "start_time": "2023-02-16T16:04:02.787222Z"
    }
   },
   "outputs": [],
   "source": [
    "# 画像の回転＋明るさ＋切り抜き＋反転\n",
    "def rotate_and_adjust_skrw_crop_mirroring(img_path, prob = 0.5, max_left = 180, max_right = 180, min_factor_adjust = 0.3, max_factor_adjust = 1.7, \\\n",
    "                                 mag = 1, percent_crop_area = 0.7):\n",
    "    \"\"\"\n",
    "    画像を回転させる水増し処理\n",
    "    \n",
    "    img_path:str\n",
    "        水増し処理を行いたい画像群のパス\n",
    "    prob:double\n",
    "        画像を回転させる確率\n",
    "    max_left:int\n",
    "        左に傾ける角度の最大値\n",
    "    max_right:int\n",
    "        右に傾ける角度の最小値\n",
    "    min_factor_adjust:double\n",
    "        明るさの最小値\n",
    "    max_factor_adjust:double\n",
    "        明るさの最大値\n",
    "    mag:double\n",
    "        歪みの程度（おそらく）\n",
    "    percent_crop_area:double\n",
    "        元画像のどの程度の面積を切り抜くか\n",
    "    \n",
    "    \"\"\"\n",
    "    \n",
    "    # パイプラインを作成する。\n",
    "    p = Augmentor.Pipeline(img_path)\n",
    "    \n",
    "    # ランダムな回転を実施\n",
    "    p.rotate_without_crop(probability = prob, max_left_rotation = max_left, max_right_rotation = max_right)\n",
    "    #明るさの変更\n",
    "    p.random_brightness(probability=prob, min_factor=min_factor_adjust, max_factor=max_factor_adjust)\n",
    "    #歪みを実施\n",
    "    #p.skew(probability=prob, magnitude=mag)\n",
    "    #くりぬき実施\n",
    "    p.crop_random(probability=prob, percentage_area=percent_crop_area, randomise_percentage_area=False)\n",
    "    #反転\n",
    "    p.flip_random(probability=prob)\n",
    "    \n",
    "    p.sample(50000)"
   ]
  },
  {
   "cell_type": "code",
   "execution_count": 7,
   "metadata": {
    "ExecuteTime": {
     "end_time": "2023-02-16T16:04:14.713440Z",
     "start_time": "2023-02-16T16:04:02.925176Z"
    }
   },
   "outputs": [
    {
     "name": "stdout",
     "output_type": "stream",
     "text": [
      "Initialised with 999 image(s) found.\n",
      "Output directory set to Train\\output."
     ]
    },
    {
     "name": "stderr",
     "output_type": "stream",
     "text": [
      "Processing <PIL.Image.Image image mode=RGB size=720x480 at 0x25376880D00>:   9%| | 4610/50000 [01:31<17:14, 43.90 Sampl"
     ]
    }
   ],
   "source": [
    "rotate_and_adjust_skrw_crop_mirroring(train_path)\n",
    "#適切な形にパス名を変更\n",
    "rename_path(augmentation_output_path, rename_output_path)"
   ]
  },
  {
   "cell_type": "code",
   "execution_count": 9,
   "metadata": {},
   "outputs": [],
   "source": [
    "rename_path(augmentation_output_path, rename_output_path)"
   ]
  },
  {
   "cell_type": "markdown",
   "metadata": {},
   "source": [
    "## 画像の回転＋明るさ＋歪み＋切り抜き+弾性歪み"
   ]
  },
  {
   "cell_type": "code",
   "execution_count": 11,
   "metadata": {
    "ExecuteTime": {
     "end_time": "2023-02-16T16:55:55.990303Z",
     "start_time": "2023-02-16T16:55:55.982304Z"
    }
   },
   "outputs": [],
   "source": [
    "# 画像の回転＋明るさ＋切り抜き+弾性歪み\n",
    "def rotate_and_adjust_skrw_crop_erasing(img_path, prob = 0.5, max_left = 25, max_right = 25, min_factor_adjust = 0.3, max_factor_adjust = 1.7, \\\n",
    "                                 mag = 1, percent_crop_area = 0.7, grid = 5, mag_d = 10):\n",
    "    \"\"\"\n",
    "    画像を回転させる水増し処理\n",
    "    \n",
    "    img_path:str\n",
    "        水増し処理を行いたい画像群のパス\n",
    "    prob:double\n",
    "        画像を回転させる確率\n",
    "    max_left:int\n",
    "        左に傾ける角度の最大値\n",
    "    max_right:int\n",
    "        右に傾ける角度の最小値\n",
    "    min_factor_adjust:double\n",
    "        明るさの最小値\n",
    "    max_factor_adjust:double\n",
    "        明るさの最大値\n",
    "    mag:double\n",
    "        歪みの程度（おそらく）\n",
    "    percent_crop_area:double\n",
    "        元画像のどの程度の面積を切り抜くか\n",
    "    grid:int\n",
    "        弾性歪み時の長方形の数\n",
    "    mag_d:int\n",
    "        弾性歪みの程度\n",
    "    \n",
    "    \"\"\"\n",
    "    \n",
    "    # パイプラインを作成する。\n",
    "    p = Augmentor.Pipeline(img_path)\n",
    "    \n",
    "    # ランダムな回転を実施\n",
    "    p.rotate_without_crop(probability = prob, max_left_rotation = max_left, max_right_rotation = max_right)\n",
    "    #明るさの変更\n",
    "    p.random_brightness(probability=prob, min_factor=min_factor_adjust, max_factor=max_factor_adjust)\n",
    "    #歪みを実施\n",
    "    p.skew(probability=prob, magnitude=mag)\n",
    "    #くりぬき実施\n",
    "    p.crop_random(probability=prob, percentage_area=0.7, randomise_percentage_area=True)\n",
    "    #反転\n",
    "    p.flip_random(probability=prob)\n",
    "    #弾性歪み\n",
    "    p.random_distortion(probability=prob, grid_width = grid, grid_height = grid, magnitude=mag_d)\n",
    "    \n",
    "    p.sample(10000)"
   ]
  },
  {
   "cell_type": "code",
   "execution_count": 12,
   "metadata": {
    "ExecuteTime": {
     "end_time": "2023-02-16T16:56:08.706242Z",
     "start_time": "2023-02-16T16:55:56.094270Z"
    }
   },
   "outputs": [
    {
     "name": "stdout",
     "output_type": "stream",
     "text": [
      "Initialised with 999 image(s) found.\n",
      "Output directory set to Train\\output."
     ]
    },
    {
     "name": "stderr",
     "output_type": "stream",
     "text": [
      "Processing <PIL.Image.Image image mode=RGB size=306x196 at 0x14A0772B160>:  65%|▋| 6547/10000 [01:15<00:06, 518.95 Samp"
     ]
    }
   ],
   "source": [
    "rotate_and_adjust_skrw_crop_erasing(train_path)\n",
    "#適切な形にパス名を変更\n",
    "rename_path(augmentation_output_path, rename_output_path)"
   ]
  },
  {
   "cell_type": "code",
   "execution_count": 13,
   "metadata": {},
   "outputs": [],
   "source": [
    "rename_path(augmentation_output_path, rename_output_path)"
   ]
  },
  {
   "cell_type": "markdown",
   "metadata": {},
   "source": [
    "## 画像の回転＋明るさ＋歪み+弾性歪み"
   ]
  },
  {
   "cell_type": "code",
   "execution_count": 6,
   "metadata": {
    "ExecuteTime": {
     "end_time": "2023-02-16T17:11:34.938309Z",
     "start_time": "2023-02-16T17:11:34.932294Z"
    }
   },
   "outputs": [],
   "source": [
    "# 画像の回転＋明るさ+弾性歪み\n",
    "def rotate_and_adjust_skrw_erasing(img_path, prob = 0.5, max_left = 180, max_right = 180, min_factor_adjust = 0.3, max_factor_adjust = 1.7, \\\n",
    "                                 mag = 1, grid = 5, mag_d = 3):\n",
    "    \"\"\"\n",
    "    画像を回転させる水増し処理\n",
    "    \n",
    "    img_path:str\n",
    "        水増し処理を行いたい画像群のパス\n",
    "    prob:double\n",
    "        画像を回転させる確率\n",
    "    max_left:int\n",
    "        左に傾ける角度の最大値\n",
    "    max_right:int\n",
    "        右に傾ける角度の最小値\n",
    "    min_factor_adjust:double\n",
    "        明るさの最小値\n",
    "    max_factor_adjust:double\n",
    "        明るさの最大値\n",
    "    mag:double\n",
    "        歪みの程度（おそらく）\n",
    "    grid:int\n",
    "        弾性歪み時の長方形の数\n",
    "    mag_d:int\n",
    "        弾性歪みの程度\n",
    "    \"\"\"\n",
    "    \n",
    "    # パイプラインを作成する。\n",
    "    p = Augmentor.Pipeline(img_path)\n",
    "    \n",
    "    # ランダムな回転を実施\n",
    "    p.rotate_without_crop(probability = prob, max_left_rotation = max_left, max_right_rotation = max_right)\n",
    "    #明るさの変更\n",
    "    p.random_brightness(probability=prob, min_factor=min_factor_adjust, max_factor=max_factor_adjust)\n",
    "    #歪みを実施\n",
    "    p.skew(probability=prob, magnitude=mag)\n",
    "    #くりぬき実施\n",
    "    p.crop_random(probability=prob, percentage_area=0.7, randomise_percentage_area=True)\n",
    "    #反転\n",
    "    p.flip_random(probability=prob)\n",
    "    #弾性歪み\n",
    "    p.random_distortion(probability=prob, grid_width = grid, grid_height = grid, magnitude=mag_d)\n",
    "    \n",
    "    p.sample(100000)"
   ]
  },
  {
   "cell_type": "code",
   "execution_count": 7,
   "metadata": {
    "ExecuteTime": {
     "end_time": "2023-02-16T17:11:54.935626Z",
     "start_time": "2023-02-16T17:11:35.046256Z"
    }
   },
   "outputs": [
    {
     "name": "stdout",
     "output_type": "stream",
     "text": [
      "Initialised with 999 image(s) found.\n",
      "Output directory set to Train\\output."
     ]
    },
    {
     "name": "stderr",
     "output_type": "stream",
     "text": [
      "Processing <PIL.Image.Image image mode=RGB size=42x39 at 0x1EDBD4E2C10>:  23%|▏| 22991/100000 [03:12<07:30, 171.00 SampIOPub message rate exceeded.\n",
      "The notebook server will temporarily stop sending output\n",
      "to the client in order to avoid crashing it.\n",
      "To change this limit, set the config variable\n",
      "`--NotebookApp.iopub_msg_rate_limit`.\n",
      "\n",
      "Current values:\n",
      "NotebookApp.iopub_msg_rate_limit=1000.0 (msgs/sec)\n",
      "NotebookApp.rate_limit_window=3.0 (secs)\n",
      "\n"
     ]
    }
   ],
   "source": [
    "rotate_and_adjust_skrw_erasing(train_path)\n",
    "#適切な形にパス名を変更\n",
    "rename_path(augmentation_output_path, rename_output_path)"
   ]
  },
  {
   "cell_type": "code",
   "execution_count": null,
   "metadata": {},
   "outputs": [],
   "source": []
  }
 ],
 "metadata": {
  "kernelspec": {
   "display_name": "Python [conda env:image_analysis] *",
   "language": "python",
   "name": "conda-env-image_analysis-py"
  },
  "language_info": {
   "codemirror_mode": {
    "name": "ipython",
    "version": 3
   },
   "file_extension": ".py",
   "mimetype": "text/x-python",
   "name": "python",
   "nbconvert_exporter": "python",
   "pygments_lexer": "ipython3",
   "version": "3.8.12"
  }
 },
 "nbformat": 4,
 "nbformat_minor": 2
}
