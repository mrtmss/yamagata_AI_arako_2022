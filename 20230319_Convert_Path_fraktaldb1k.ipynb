{
 "cells": [
  {
   "cell_type": "code",
   "execution_count": 1,
   "id": "9381dfb7",
   "metadata": {},
   "outputs": [],
   "source": [
    "#ライブラリをインポート\n",
    "#標準ライブラリ\n",
    "import os\n",
    "import shutil\n",
    "from pathlib import Path"
   ]
  },
  {
   "cell_type": "markdown",
   "id": "e0c5aa3a",
   "metadata": {},
   "source": [
    "# 概要"
   ]
  },
  {
   "cell_type": "markdown",
   "id": "73165a96",
   "metadata": {},
   "source": [
    "fraktalDB-1kのパスを変換する"
   ]
  },
  {
   "cell_type": "markdown",
   "id": "36125325",
   "metadata": {},
   "source": [
    "# 対象となるディレクトリのロード"
   ]
  },
  {
   "cell_type": "code",
   "execution_count": 6,
   "id": "906365bf",
   "metadata": {},
   "outputs": [],
   "source": [
    "#fraktal_pathのリスト\n",
    "list_fraktal_path = list(Path('FractalDB-1k').iterdir())\n",
    "\n",
    "#str化\n",
    "list_fraktal_path = [str(path) for path in list_fraktal_path][:740]"
   ]
  },
  {
   "cell_type": "code",
   "execution_count": 7,
   "id": "afc7b6b6",
   "metadata": {},
   "outputs": [
    {
     "data": {
      "text/plain": [
       "740"
      ]
     },
     "execution_count": 7,
     "metadata": {},
     "output_type": "execute_result"
    }
   ],
   "source": [
    "len(list_fraktal_path)"
   ]
  },
  {
   "cell_type": "markdown",
   "id": "a8bc2ab4",
   "metadata": {},
   "source": [
    "# リネームし、あるフォルダへ吐き出す"
   ]
  },
  {
   "cell_type": "code",
   "execution_count": 4,
   "id": "f1bbb885",
   "metadata": {},
   "outputs": [],
   "source": [
    "rename_output_path = 'fraktalDB-1k_rename_739'"
   ]
  },
  {
   "cell_type": "code",
   "execution_count": 5,
   "id": "fb5ae96d",
   "metadata": {},
   "outputs": [],
   "source": [
    "for fraktal_path in list_fraktal_path:\n",
    "    identifi_path = list(Path(fraktal_path).iterdir())\n",
    "    #str化\n",
    "    identifi_path = [str(path) for path in identifi_path]\n",
    "    for i, path in enumerate(identifi_path):\n",
    "        os.rename(path, os.path.join(rename_output_path, fraktal_path[-5:] + '_' + str(i) + \".jpg\"))"
   ]
  }
 ],
 "metadata": {
  "kernelspec": {
   "display_name": "Python [conda env:image_analysis] *",
   "language": "python",
   "name": "conda-env-image_analysis-py"
  },
  "language_info": {
   "codemirror_mode": {
    "name": "ipython",
    "version": 3
   },
   "file_extension": ".py",
   "mimetype": "text/x-python",
   "name": "python",
   "nbconvert_exporter": "python",
   "pygments_lexer": "ipython3",
   "version": "3.8.12"
  }
 },
 "nbformat": 4,
 "nbformat_minor": 5
}
